{
 "cells": [
  {
   "cell_type": "code",
   "execution_count": null,
   "id": "e3a4dfdc",
   "metadata": {},
   "outputs": [],
   "source": [
    "import streamlit as st\n",
    "import pandas as pd\n",
    "\n",
    "# Load Excel\n",
    "df = pd.read_excel(\"Y-Unani_medicines.xlsx\")\n",
    "df.columns = df.columns.str.strip()  # clean column names\n",
    "\n",
    "st.title(\"Unani Medicine Guide 🌿\")\n",
    "\n",
    "# --- Step 0: Doctor enters medicine name ---\n",
    "medicine_name = st.text_input(\"Enter medicine name:\")\n",
    "\n",
    "if medicine_name:\n",
    "    # Filter the dataframe for that medicine\n",
    "    medicine = df[df[\"Medicine Name\"].str.contains(medicine_name, case=False, na=False)]\n",
    "\n",
    "    if medicine.empty:\n",
    "        st.error(\"❌ Medicine not found. Please try another name.\")\n",
    "    else:\n",
    "        # Initialize step state\n",
    "        if \"step\" not in st.session_state:\n",
    "            st.session_state.step = 1\n",
    "\n",
    "        # Step 1: Show Therapeutic uses\n",
    "        if st.session_state.step == 1:\n",
    "            st.subheader(\"Therapeutic Uses\")\n",
    "            st.write(medicine.iloc[0][\"Therapeutic uses\"])\n",
    "            if st.button(\"Next ➡️\"):\n",
    "                st.session_state.step = 2\n",
    "                st.rerun()\n",
    "\n",
    "        # Step 2: Show Preparation method\n",
    "        elif st.session_state.step == 2:\n",
    "            st.subheader(\"Method of Preparation\")\n",
    "            st.write(medicine.iloc[0][\"Method of preparation\"])\n",
    "            if st.button(\"Next ➡️\"):\n",
    "                st.session_state.step = 3\n",
    "                st.rerun()\n",
    "\n",
    "        # Step 3: Show Dosage\n",
    "        elif st.session_state.step == 3:\n",
    "            st.subheader(\"Dosage\")\n",
    "            st.write(medicine.iloc[0][\"Dose\"])\n",
    "            if st.button(\"🔄 Start Over\"):\n",
    "                st.session_state.step = 1\n",
    "                st.rerun()\n"
   ]
  }
 ],
 "metadata": {
  "kernelspec": {
   "display_name": "yunani",
   "language": "python",
   "name": "python3"
  },
  "language_info": {
   "codemirror_mode": {
    "name": "ipython",
    "version": 3
   },
   "file_extension": ".py",
   "mimetype": "text/x-python",
   "name": "python",
   "nbconvert_exporter": "python",
   "pygments_lexer": "ipython3",
   "version": "3.10.18"
  }
 },
 "nbformat": 4,
 "nbformat_minor": 5
}
